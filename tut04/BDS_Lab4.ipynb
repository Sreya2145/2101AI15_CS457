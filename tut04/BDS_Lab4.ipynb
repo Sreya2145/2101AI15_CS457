{
  "nbformat": 4,
  "nbformat_minor": 0,
  "metadata": {
    "colab": {
      "provenance": []
    },
    "kernelspec": {
      "name": "python3",
      "display_name": "Python 3"
    },
    "language_info": {
      "name": "python"
    }
  },
  "cells": [
    {
      "cell_type": "code",
      "source": [
        "import hashlib\n",
        "import os\n",
        "\n",
        "# Dictionary to store user credentials\n",
        "user_db = {}\n",
        "\n",
        "def hash_password(password: str, salt: bytes) -> str:\n",
        "    \"\"\"Hashes a password with a given salt using SHA-256.\"\"\"\n",
        "    return hashlib.sha256(salt + password.encode()).hexdigest()\n",
        "\n",
        "def register(username: str, password: str):\n",
        "    \"\"\"Registers a user by storing their salted password hash.\"\"\"\n",
        "    if username in user_db:\n",
        "        print(\"Username already exists! Choose a different one.\")\n",
        "        return\n",
        "\n",
        "    salt = os.urandom(16)  # Generate a random salt\n",
        "    hashed_password = hash_password(password, salt)\n",
        "    user_db[username] = {'salt': salt, 'password_hash': hashed_password}\n",
        "    print(\"User registered successfully!\")\n",
        "\n",
        "def login(username: str, password: str):\n",
        "    \"\"\"Authenticates a user by comparing the stored hash with the input password hash.\"\"\"\n",
        "    if username not in user_db:\n",
        "        print(\"User does not exist!\")\n",
        "        return False\n",
        "\n",
        "    stored_salt = user_db[username]['salt']\n",
        "    stored_hash = user_db[username]['password_hash']\n",
        "\n",
        "    if hash_password(password, stored_salt) == stored_hash:\n",
        "        print(\"Login successful!\")\n",
        "        return True\n",
        "    else:\n",
        "        print(\"Incorrect password!\")\n",
        "        return False\n",
        "\n",
        "# User input loop\n",
        "while True:\n",
        "    choice = input(\"Choose an option: register (r) / login (l) / exit (e): \").strip().lower()\n",
        "    if choice == 'r':\n",
        "        username = input(\"Enter a username: \").strip()\n",
        "        password = input(\"Enter a password: \").strip()\n",
        "        register(username, password)\n",
        "    elif choice == 'l':\n",
        "        username = input(\"Enter your username: \").strip()\n",
        "        password = input(\"Enter your password: \").strip()\n",
        "        login(username, password)\n",
        "    elif choice == 'e':\n",
        "        print(\"Exiting...\")\n",
        "        break\n",
        "    else:\n",
        "        print(\"Invalid option, please try again.\")\n"
      ],
      "metadata": {
        "colab": {
          "base_uri": "https://localhost:8080/"
        },
        "id": "r7uiyi6qGVC3",
        "outputId": "fc554474-1921-4320-9d43-bffcf800c398"
      },
      "execution_count": null,
      "outputs": [
        {
          "output_type": "stream",
          "name": "stdout",
          "text": [
            "Choose an option: register (r) / login (l) / exit (e): r\n",
            "Enter a username: sreya\n",
            "Enter a password: 123\n",
            "User registered successfully!\n",
            "Choose an option: register (r) / login (l) / exit (e): l\n",
            "Enter your username: sreya\n",
            "Enter your password: 123\n",
            "Login successful!\n",
            "Choose an option: register (r) / login (l) / exit (e): e\n",
            "Exiting...\n"
          ]
        }
      ]
    },
    {
      "cell_type": "code",
      "source": [
        "user_db"
      ],
      "metadata": {
        "colab": {
          "base_uri": "https://localhost:8080/"
        },
        "id": "D7cfThwjGtQJ",
        "outputId": "ff9edd5e-f26d-4c8b-ab41-986f307f8528"
      },
      "execution_count": null,
      "outputs": [
        {
          "output_type": "execute_result",
          "data": {
            "text/plain": [
              "{'sreya': {'salt': b'G\\x05\\xa2\\x08\\xb8_+\\xa2\\xb1\\x94\\xfe\\x1f\\xf5=\\x1d\\\\',\n",
              "  'password_hash': 'fb2b1a78fa6334d69421652c3e69cbd25638ed3da2c27d7b98ec9d058c56f293'}}"
            ]
          },
          "metadata": {},
          "execution_count": 2
        }
      ]
    }
  ]
}